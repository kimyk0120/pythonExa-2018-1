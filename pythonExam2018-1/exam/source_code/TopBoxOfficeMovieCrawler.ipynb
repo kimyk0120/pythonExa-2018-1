{
 "cells": [
  {
   "cell_type": "code",
   "execution_count": 16,
   "metadata": {
    "collapsed": true
   },
   "outputs": [],
   "source": [
    "from urllib.request import urlopen\n",
    "from bs4 import BeautifulSoup\n",
    "import pandas as pd"
   ]
  },
  {
   "cell_type": "code",
   "execution_count": 40,
   "metadata": {
    "collapsed": true
   },
   "outputs": [],
   "source": [
    "url = \"https://www.rottentomatoes.com/\"\n",
    "html = urlopen(url)\n",
    "source = html.read() # 바이트코드 type으로 소스를 읽는다.\n",
    "html.close() # urlopen을 진행한 후에는 close를 한다.\n",
    "\n",
    "soup = BeautifulSoup(source, \"html5lib\") # 파싱할 문서를 BeautifulSoup 클래스의 생성자에 넘겨주어 문서 개체를 생성, 관습적으로 soup 이라 부름\n",
    "table = soup.find(id=\"Top-Box-Office\")\n",
    "movies = table.find_all(class_=\"middle_col\")\n"
   ]
  },
  {
   "cell_type": "code",
   "execution_count": 77,
   "metadata": {
    "collapsed": false
   },
   "outputs": [
    {
     "name": "stdout",
     "output_type": "stream",
     "text": [
      "['\\n        The First Purge\\n    ', '\\n        Skyscraper\\n    ', '\\n        Jurassic World: Fallen Kingdom\\n    ', '\\n        Incredibles 2\\n    ', '\\n        Ant-Man and the Wasp\\n    ', '\\n        Teen Titans Go! To the Movies\\n    ', '\\n        Hotel Transylvania 3: Summer Vacation\\n    ', '\\n        Equalizer 2\\n    ', '\\n        Mamma Mia! Here We Go Again\\n    ', '\\n        Mission: Impossible - Fallout\\n    ']\n"
     ]
    }
   ],
   "source": [
    "idx = 0\n",
    "idx2 = 0\n",
    "titles = []\n",
    "urls = []\n",
    "\n",
    "for movie in movies:\n",
    "    title = movie.get_text()    \n",
    "    link = movie.a.get('href')\n",
    "    url = 'https://www.rottentomatoes.com' + link         \n",
    "    titles.insert(++idx, title)\n",
    "    urls.insert(++idx2, url)\n",
    "    \n",
    "data = {'TITLE': titles, 'URL': urls}"
   ]
  },
  {
   "cell_type": "code",
   "execution_count": 12,
   "metadata": {},
   "outputs": [],
   "source": [
    "import numpy as np"
   ]
  },
  {
   "cell_type": "code",
   "execution_count": 78,
   "metadata": {
    "collapsed": false
   },
   "outputs": [
    {
     "data": {
      "text/html": [
       "<div>\n",
       "<style scoped>\n",
       "    .dataframe tbody tr th:only-of-type {\n",
       "        vertical-align: middle;\n",
       "    }\n",
       "\n",
       "    .dataframe tbody tr th {\n",
       "        vertical-align: top;\n",
       "    }\n",
       "\n",
       "    .dataframe thead th {\n",
       "        text-align: right;\n",
       "    }\n",
       "</style>\n",
       "<table border=\"1\" class=\"dataframe\">\n",
       "  <thead>\n",
       "    <tr style=\"text-align: right;\">\n",
       "      <th></th>\n",
       "      <th>TITLE</th>\n",
       "      <th>URL</th>\n",
       "    </tr>\n",
       "  </thead>\n",
       "  <tbody>\n",
       "    <tr>\n",
       "      <th>0</th>\n",
       "      <td>\\n        The First Purge\\n</td>\n",
       "      <td>https://www.rottentomatoes.com/m/the_first_purge</td>\n",
       "    </tr>\n",
       "    <tr>\n",
       "      <th>1</th>\n",
       "      <td>\\n        Skyscraper\\n</td>\n",
       "      <td>https://www.rottentomatoes.com/m/skyscraper_2018</td>\n",
       "    </tr>\n",
       "    <tr>\n",
       "      <th>2</th>\n",
       "      <td>\\n        Jurassic World: Fallen Kingdom\\n</td>\n",
       "      <td>https://www.rottentomatoes.com/m/jurassic_worl...</td>\n",
       "    </tr>\n",
       "    <tr>\n",
       "      <th>3</th>\n",
       "      <td>\\n        Incredibles 2\\n</td>\n",
       "      <td>https://www.rottentomatoes.com/m/incredibles_2</td>\n",
       "    </tr>\n",
       "    <tr>\n",
       "      <th>4</th>\n",
       "      <td>\\n        Ant-Man and the Wasp\\n</td>\n",
       "      <td>https://www.rottentomatoes.com/m/ant_man_and_t...</td>\n",
       "    </tr>\n",
       "    <tr>\n",
       "      <th>5</th>\n",
       "      <td>\\n        Teen Titans Go! To the Movies\\n</td>\n",
       "      <td>https://www.rottentomatoes.com/m/teen_titans_g...</td>\n",
       "    </tr>\n",
       "    <tr>\n",
       "      <th>6</th>\n",
       "      <td>\\n        Hotel Transylvania 3: Summer Vacatio...</td>\n",
       "      <td>https://www.rottentomatoes.com/m/hotel_transyl...</td>\n",
       "    </tr>\n",
       "    <tr>\n",
       "      <th>7</th>\n",
       "      <td>\\n        Equalizer 2\\n</td>\n",
       "      <td>https://www.rottentomatoes.com/m/equalizer_2</td>\n",
       "    </tr>\n",
       "    <tr>\n",
       "      <th>8</th>\n",
       "      <td>\\n        Mamma Mia! Here We Go Again\\n</td>\n",
       "      <td>https://www.rottentomatoes.com/m/mamma_mia_her...</td>\n",
       "    </tr>\n",
       "    <tr>\n",
       "      <th>9</th>\n",
       "      <td>\\n        Mission: Impossible - Fallout\\n</td>\n",
       "      <td>https://www.rottentomatoes.com/m/mission_impos...</td>\n",
       "    </tr>\n",
       "  </tbody>\n",
       "</table>\n",
       "</div>"
      ],
      "text/plain": [
       "<div>\n",
       "<style scoped>\n",
       "    .dataframe tbody tr th:only-of-type {\n",
       "        vertical-align: middle;\n",
       "    }\n",
       "\n",
       "    .dataframe tbody tr th {\n",
       "        vertical-align: top;\n",
       "    }\n",
       "\n",
       "    .dataframe thead th {\n",
       "        text-align: right;\n",
       "    }\n",
       "</style>\n",
       "<table border=\"1\" class=\"dataframe\">\n",
       "  <thead>\n",
       "    <tr style=\"text-align: right;\">\n",
       "      <th></th>\n",
       "      <th>TITLE</th>\n",
       "      <th>URL</th>\n",
       "    </tr>\n",
       "  </thead>\n",
       "  <tbody>\n",
       "    <tr>\n",
       "      <th>0</th>\n",
       "      <td>\\n        The First Purge\\n</td>\n",
       "      <td>https://www.rottentomatoes.com/m/the_first_purge</td>\n",
       "    </tr>\n",
       "    <tr>\n",
       "      <th>1</th>\n",
       "      <td>\\n        Skyscraper\\n</td>\n",
       "      <td>https://www.rottentomatoes.com/m/skyscraper_2018</td>\n",
       "    </tr>\n",
       "    <tr>\n",
       "      <th>2</th>\n",
       "      <td>\\n        Jurassic World: Fallen Kingdom\\n</td>\n",
       "      <td>https://www.rottentomatoes.com/m/jurassic_worl...</td>\n",
       "    </tr>\n",
       "    <tr>\n",
       "      <th>3</th>\n",
       "      <td>\\n        Incredibles 2\\n</td>\n",
       "      <td>https://www.rottentomatoes.com/m/incredibles_2</td>\n",
       "    </tr>\n",
       "    <tr>\n",
       "      <th>4</th>\n",
       "      <td>\\n        Ant-Man and the Wasp\\n</td>\n",
       "      <td>https://www.rottentomatoes.com/m/ant_man_and_t...</td>\n",
       "    </tr>\n",
       "    <tr>\n",
       "      <th>5</th>\n",
       "      <td>\\n        Teen Titans Go! To the Movies\\n</td>\n",
       "      <td>https://www.rottentomatoes.com/m/teen_titans_g...</td>\n",
       "    </tr>\n",
       "    <tr>\n",
       "      <th>6</th>\n",
       "      <td>\\n        Hotel Transylvania 3: Summer Vacatio...</td>\n",
       "      <td>https://www.rottentomatoes.com/m/hotel_transyl...</td>\n",
       "    </tr>\n",
       "    <tr>\n",
       "      <th>7</th>\n",
       "      <td>\\n        Equalizer 2\\n</td>\n",
       "      <td>https://www.rottentomatoes.com/m/equalizer_2</td>\n",
       "    </tr>\n",
       "    <tr>\n",
       "      <th>8</th>\n",
       "      <td>\\n        Mamma Mia! Here We Go Again\\n</td>\n",
       "      <td>https://www.rottentomatoes.com/m/mamma_mia_her...</td>\n",
       "    </tr>\n",
       "    <tr>\n",
       "      <th>9</th>\n",
       "      <td>\\n        Mission: Impossible - Fallout\\n</td>\n",
       "      <td>https://www.rottentomatoes.com/m/mission_impos...</td>\n",
       "    </tr>\n",
       "  </tbody>\n",
       "</table>\n",
       "</div>"
      ]
     },
     "execution_count": 78,
     "metadata": {},
     "output_type": "execute_result"
    }
   ],
   "source": [
    "df = pd.DataFrame(data)\n",
    "df"
   ]
  },
  {
   "cell_type": "code",
   "execution_count": 79,
   "metadata": {},
   "outputs": [],
   "source": [
    ""
   ]
  },
  {
   "cell_type": "code",
   "execution_count": null,
   "metadata": {},
   "outputs": [],
   "source": []
  }
 ],
 "metadata": {
  "kernelspec": {
   "display_name": "Python 2",
   "language": "python",
   "name": "python2"
  },
  "language_info": {
   "codemirror_mode": {
    "name": "ipython",
    "version": 2
   },
   "file_extension": ".py",
   "mimetype": "text/x-python",
   "name": "python",
   "nbconvert_exporter": "python",
   "pygments_lexer": "ipython2",
   "version": "2.7.6"
  }
 },
 "nbformat": 4,
 "nbformat_minor": 0
}
