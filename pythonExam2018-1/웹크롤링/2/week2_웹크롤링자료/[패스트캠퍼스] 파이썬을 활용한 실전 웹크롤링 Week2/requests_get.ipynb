{
 "cells": [
  {
   "cell_type": "code",
   "execution_count": null,
   "metadata": {
    "collapsed": true
   },
   "outputs": [],
   "source": [
    "import requests\n",
    "# requests 패키지를 불러옵니다."
   ]
  },
  {
   "cell_type": "code",
   "execution_count": null,
   "metadata": {},
   "outputs": [],
   "source": [
    "\n",
    "response  = requests.get('https://www.naver.com')\n",
    "# get을 사용해 naver홈페이지 정보를 요청합니다.\n",
    "# 이때 웹서버의 응답은 response라는 변수에 저장됩니다!\n"
   ]
  },
  {
   "cell_type": "code",
   "execution_count": null,
   "metadata": {},
   "outputs": [],
   "source": [
    "\n",
    "response_code = response.status_code\n",
    "# 웹서버로부터 도착한 response에 status_code를 사용해\n",
    "# 요청에 대한 응답이 잘 왔는지 확인합니다.\n"
   ]
  },
  {
   "cell_type": "code",
   "execution_count": null,
   "metadata": {},
   "outputs": [],
   "source": [
    "\n",
    "if response_code == 200:\n",
    "    print(response.text)\n",
    "else:\n",
    "    print('error code : '+str(response_code))"
   ]
  }
 ],
 "metadata": {
  "kernelspec": {
   "display_name": "Python 2",
   "language": "python",
   "name": "python2"
  },
  "language_info": {
   "codemirror_mode": {
    "name": "ipython",
    "version": 2
   },
   "file_extension": ".py",
   "mimetype": "text/x-python",
   "name": "python",
   "nbconvert_exporter": "python",
   "pygments_lexer": "ipython2",
   "version": "2.7.6"
  }
 },
 "nbformat": 4,
 "nbformat_minor": 0
}
