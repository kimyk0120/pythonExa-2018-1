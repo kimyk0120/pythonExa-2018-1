{
 "cells": [
  {
   "cell_type": "code",
   "execution_count": null,
   "metadata": {
    "collapsed": true
   },
   "outputs": [],
   "source": [
    "from selenium import webdriver\n",
    "import urllib.request\n",
    "import time\n",
    "import sys\n",
    "\n",
    "dr = webdriver.Chrome('/Users/joono/chromedriver')\n",
    "dr.get('http://store.musinsa.com/app/contents/bestranking?new_product_yn=Y')\n",
    "# 무신사 홈페이지에 접근합니다.\n"
   ]
  },
  {
   "cell_type": "code",
   "execution_count": null,
   "metadata": {
    "collapsed": true
   },
   "outputs": [],
   "source": [
    "dr.find_elements_by_class_name('division_search_input')[0].send_keys(50000)\n",
    "dr.find_elements_by_class_name('division_search_input')[1].send_keys(100000)\n",
    "dr.find_element_by_class_name('division_search_btn').click()\n",
    "# 가격 범위를 설정하는 입력칸에 50000과 100000을 입력합니다.\n",
    "time.sleep(2)"
   ]
  },
  {
   "cell_type": "code",
   "execution_count": null,
   "metadata": {
    "collapsed": true
   },
   "outputs": [],
   "source": [
    "q = True\n",
    "target = 1000\n",
    "\n",
    "while q:\n",
    "    now_height = dr.execute_script(\"return window.pageYOffset;\")\n",
    "    dr.execute_script(\"window.scrollTo(500, {0});\".format(target))\n",
    "    time.sleep(3)\n",
    "    target = target + 1000\n",
    "    new_height = dr.execute_script(\"return window.pageYOffset;\")\n",
    "    if now_height == new_height:\n",
    "        break"
   ]
  },
  {
   "cell_type": "code",
   "execution_count": null,
   "metadata": {
    "collapsed": true
   },
   "outputs": [],
   "source": [
    "items = dr.find_element_by_id('searchList')\n",
    "images = items.find_elements_by_css_selector('img[src^=\"//image.musinsa.com/images\"]')\n",
    "brands = items.find_elements_by_class_name('item_title')\n",
    "prices = items.find_elements_by_class_name('price')"
   ]
  },
  {
   "cell_type": "code",
   "execution_count": null,
   "metadata": {
    "collapsed": true
   },
   "outputs": [],
   "source": [
    "image_urls = []\n",
    "brand_l = []\n",
    "price_l = []\n",
    "for image in images:\n",
    "    image_urls.append(image.get_attribute(\"src\"))\n",
    "for brand in brands:\n",
    "    brand_l.append(brand.text)\n",
    "for price in prices:\n",
    "    price_list = price.text.split('\\n')\n",
    "    if len(price_list) == 3:\n",
    "        price_l.append(price_list[1])\n",
    "    else:\n",
    "        price_l.append(price_list[0])"
   ]
  },
  {
   "cell_type": "code",
   "execution_count": null,
   "metadata": {
    "collapsed": true
   },
   "outputs": [],
   "source": [
    "for index, image_url in enumerate(image_urls):\n",
    "    urllib.request.urlretrieve(image_url,sys.path[1]+'/실습결과/'+brand_l[index]+price_l[index]+'.'+image_url.split('.')[-1])"
   ]
  },
  {
   "cell_type": "code",
   "execution_count": null,
   "metadata": {
    "collapsed": true
   },
   "outputs": [],
   "source": []
  }
 ],
 "metadata": {
  "kernelspec": {
   "display_name": "Python 3",
   "language": "python",
   "name": "python3"
  },
  "language_info": {
   "codemirror_mode": {
    "name": "ipython",
    "version": 3
   },
   "file_extension": ".py",
   "mimetype": "text/x-python",
   "name": "python",
   "nbconvert_exporter": "python",
   "pygments_lexer": "ipython3",
   "version": "3.6.0"
  }
 },
 "nbformat": 4,
 "nbformat_minor": 2
}
