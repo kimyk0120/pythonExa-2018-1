{
 "cells": [
  {
   "cell_type": "code",
   "execution_count": 4,
   "metadata": {},
   "outputs": [],
   "source": [
    "from selenium import webdriver\n",
    "\n",
    "chromedriver_address = '/Users/ahn'\n",
    "# 컴퓨터에 있는 크롬드라이버 설치 폴더 경로를 입력한다.\n",
    "# 윈도우는 폴더에서 복사해서 가져오는 경우 ₩를 /로 바꿔준다."
   ]
  },
  {
   "cell_type": "code",
   "execution_count": 5,
   "metadata": {},
   "outputs": [],
   "source": [
    "driver = webdriver.Chrome(chromedriver_address + '/chromedriver')\n",
    "# 파이썬에서 우리가 설치한 웹드라이버를 인식할 수 있도록 경로를 더해.\n",
    "# 코드를 실행하면 빈 페이지인 크롬이 열림!"
   ]
  },
  {
   "cell_type": "code",
   "execution_count": 6,
   "metadata": {},
   "outputs": [
    {
     "name": "stdout",
     "output_type": "stream",
     "text": [
      "<!DOCTYPE html><html xmlns=\"http://www.w3.org/1999\n"
     ]
    }
   ],
   "source": [
    "web_url = 'http://news.naver.com/'\n",
    "# 정보를 요청할 웹페이지의 주소를 미리 web_url에 저장.\n",
    "\n",
    "driver.get(web_url)\n",
    "# get방식을 사용하여 정보를 요청하여 크롭 브라우저가 열리면서 네이버 홈페이지에 접근.\n",
    "driver_source = driver.page_source\n",
    "# 페이지의 소스를 HTML문서를 가져옴.\n",
    "\n",
    "print(driver_source[:50])\n",
    "# HTML문서의 일부만 출력."
   ]
  },
  {
   "cell_type": "code",
   "execution_count": null,
   "metadata": {
    "collapsed": true
   },
   "outputs": [],
   "source": []
  }
 ],
 "metadata": {
  "kernelspec": {
   "display_name": "Python 3",
   "language": "python",
   "name": "python3"
  },
  "language_info": {
   "codemirror_mode": {
    "name": "ipython",
    "version": 3
   },
   "file_extension": ".py",
   "mimetype": "text/x-python",
   "name": "python",
   "nbconvert_exporter": "python",
   "pygments_lexer": "ipython3",
   "version": "3.6.5"
  }
 },
 "nbformat": 4,
 "nbformat_minor": 2
}
