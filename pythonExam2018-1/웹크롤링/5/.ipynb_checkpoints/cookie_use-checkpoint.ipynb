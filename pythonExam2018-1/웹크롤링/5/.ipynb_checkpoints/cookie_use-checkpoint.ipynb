{
 "cells": [
  {
   "cell_type": "code",
   "execution_count": 1,
   "metadata": {},
   "outputs": [],
   "source": [
    "from selenium import webdriver\n",
    "import time\n",
    "import pickle\n",
    "dr = webdriver.Chrome('/Users/ahn/chromedriver')\n",
    "\n",
    "url = 'https://www.facebook.com/'"
   ]
  },
  {
   "cell_type": "code",
   "execution_count": 2,
   "metadata": {},
   "outputs": [
    {
     "name": "stdout",
     "output_type": "stream",
     "text": [
      "cookies type  <class 'dict'>\n",
      "dict  {'domain': '.facebook.com', 'expiry': 1597632131.885453, 'httpOnly': True, 'name': 'sb', 'path': '/', 'secure': True, 'value': 'fId3W9iXiSNuJSRqyTJUFlBy'}\n",
      "cookies type  <class 'dict'>\n",
      "dict  {'domain': '.facebook.com', 'expiry': 1535164931, 'httpOnly': False, 'name': 'wd', 'path': '/', 'secure': True, 'value': '935x760'}\n",
      "cookies type  <class 'dict'>\n",
      "dict  {'domain': '.facebook.com', 'expiry': 1542336131.885726, 'httpOnly': False, 'name': 'c_user', 'path': '/', 'secure': True, 'value': '100009877332671'}\n",
      "cookies type  <class 'dict'>\n",
      "dict  {'domain': '.facebook.com', 'httpOnly': False, 'name': 'presence', 'path': '/', 'secure': True, 'value': 'EDvF3EtimeF1534560135EuserFA21B09877332671A2EstateFDutF1534560135116CEchFDp_5f1B09877332671F1CC'}\n",
      "cookies type  <class 'dict'>\n",
      "dict  {'domain': '.facebook.com', 'expiry': 1597632131.884158, 'httpOnly': True, 'name': 'datr', 'path': '/', 'secure': True, 'value': 'fId3W-hUIU36GRLXDoOPDrn9'}\n",
      "cookies type  <class 'dict'>\n",
      "dict  {'domain': '.facebook.com', 'expiry': 1542336131.886017, 'httpOnly': True, 'name': 'xs', 'path': '/', 'secure': True, 'value': '6%3AOpjjtiioEz300w%3A2%3A1534560128%3A10682%3A10125'}\n",
      "cookies type  <class 'dict'>\n",
      "dict  {'domain': '.facebook.com', 'expiry': 1534650131.040021, 'httpOnly': True, 'name': 'spin', 'path': '/', 'secure': True, 'value': 'r.4224249_b.trunk_t.1534560128_s.1_v.2_'}\n",
      "cookies type  <class 'dict'>\n",
      "dict  {'domain': '.facebook.com', 'expiry': 1542336131.886468, 'httpOnly': True, 'name': 'pl', 'path': '/', 'secure': True, 'value': 'n'}\n",
      "cookies type  <class 'dict'>\n",
      "dict  {'domain': '.facebook.com', 'expiry': 1542336131.886261, 'httpOnly': True, 'name': 'fr', 'path': '/', 'secure': True, 'value': '0gom2mGOMmFiGWeX8.AWWRmF5w9vj1rgrtEoJ9hjqN0ds.Bbd4d8.dc.AAA.0.0.Bbd4eA.AWWLO0-v'}\n"
     ]
    }
   ],
   "source": [
    "dr.get(url)\n",
    "time.sleep(3)\n",
    "cookies = pickle.load(open(\"facebook_login_cookie.ini\", \"rb\"))\n",
    "for cookie in cookies:\n",
    "    print(\"cookies type \", type(cookie))\n",
    "    print(\"dict \", cookie)\n",
    "    dr.add_cookie(cookie)\n",
    "dr.get(url)"
   ]
  },
  {
   "cell_type": "code",
   "execution_count": null,
   "metadata": {},
   "outputs": [],
   "source": []
  }
 ],
 "metadata": {
  "kernelspec": {
   "display_name": "Python 3",
   "language": "python",
   "name": "python3"
  },
  "language_info": {
   "codemirror_mode": {
    "name": "ipython",
    "version": 3
   },
   "file_extension": ".py",
   "mimetype": "text/x-python",
   "name": "python",
   "nbconvert_exporter": "python",
   "pygments_lexer": "ipython3",
   "version": "3.6.5"
  }
 },
 "nbformat": 4,
 "nbformat_minor": 2
}
