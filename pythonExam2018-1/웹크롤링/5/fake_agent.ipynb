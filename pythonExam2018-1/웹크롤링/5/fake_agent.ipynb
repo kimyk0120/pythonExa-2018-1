{
 "cells": [
  {
   "cell_type": "code",
   "execution_count": 3,
   "metadata": {},
   "outputs": [
    {
     "name": "stdout",
     "output_type": "stream",
     "text": [
      "Mozilla/5.0 (Windows NT 6.1; WOW64) AppleWebKit/537.17 (KHTML, like Gecko) Chrome/24.0.1312.60 Safari/537.17\n"
     ]
    }
   ],
   "source": [
    "#모듈 불러오기\n",
    "from fake_useragent import UserAgent\n",
    "from selenium import webdriver\n",
    "\n",
    "fake_agent = UserAgent().random # 사용자 정보를 임의로 저장\n",
    "print(fake_agent)\n",
    "\n",
    "op = webdriver.ChromeOptions() # 웹브라우저 환경 추가\n",
    "op.add_argument(\"user-agent={fake}\".format(fake=fake_agent)) # 앞서 생성한 사용자 정보를 사용자 정보로 지정\n",
    "url = 'https://www.facebook.com/'\n",
    "dr = webdriver.Chrome('/users/ahn/chromedriver')\n",
    "dr.get(url)"
   ]
  },
  {
   "cell_type": "code",
   "execution_count": null,
   "metadata": {},
   "outputs": [],
   "source": [
    "from selenium import webdriver\n",
    "import time\n",
    "import pickle\n",
    "op = webdriver.ChromeOptions()\n",
    "op.add_argument(\"--disable-notifications\")\n",
    "dr = webdriver.Chrome('/Users/joono/chromedriver',chrome_options=op)\n",
    "url = 'https://www.facebook.com/'"
   ]
  }
 ],
 "metadata": {
  "kernelspec": {
   "display_name": "Python 3",
   "language": "python",
   "name": "python3"
  },
  "language_info": {
   "codemirror_mode": {
    "name": "ipython",
    "version": 3
   },
   "file_extension": ".py",
   "mimetype": "text/x-python",
   "name": "python",
   "nbconvert_exporter": "python",
   "pygments_lexer": "ipython3",
   "version": "3.6.5"
  }
 },
 "nbformat": 4,
 "nbformat_minor": 2
}
