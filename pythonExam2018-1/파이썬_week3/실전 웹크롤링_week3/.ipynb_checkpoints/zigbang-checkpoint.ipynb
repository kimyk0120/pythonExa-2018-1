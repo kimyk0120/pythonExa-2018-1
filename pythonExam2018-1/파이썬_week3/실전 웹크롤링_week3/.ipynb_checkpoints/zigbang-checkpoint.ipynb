{
 "cells": [
  {
   "cell_type": "code",
   "execution_count": null,
   "metadata": {
    "collapsed": true
   },
   "outputs": [],
   "source": [
    "import time\n",
    "from selenium import webdriver\n",
    "#셀레늄 사용을 위해 임포트를 해줍니다.\n",
    "keyword = '혜화역'\n",
    "webdriver_path = '/Users/joono/chromedriver'\n",
    "# 뒤에 사용될 검색어와 크롬 드라이버의 위치를 지정해 줍니다."
   ]
  },
  {
   "cell_type": "code",
   "execution_count": null,
   "metadata": {
    "collapsed": true
   },
   "outputs": [],
   "source": [
    "dr = webdriver.Chrome(webdriver_path)\n",
    "dr.get(\"https://www.zigbang.com/\")\n",
    "\n",
    "# 크롬드라이버의 위치를 사용하여 GET방식으로 직방 페이지에 접근합니다."
   ]
  },
  {
   "cell_type": "code",
   "execution_count": null,
   "metadata": {
    "collapsed": true
   },
   "outputs": [],
   "source": [
    "dr.find_element_by_id('room-textfield').send_keys(keyword)\n",
    "time.sleep(5)\n",
    "dr.find_element_by_css_selector('*[id=\"search_btn\"]').click()\n",
    "time.sleep(10)\n",
    "\n",
    "#검색어를 넣는 엘리먼트에 키워드를 넣고, 검색 버튼을 클릭합니다."
   ]
  },
  {
   "cell_type": "code",
   "execution_count": null,
   "metadata": {
    "collapsed": true
   },
   "outputs": [],
   "source": [
    "des = dr.find_element_by_id('deposit_s')\n",
    "for option in des.find_elements_by_tag_name('option'):\n",
    "    if option.text == '100만':\n",
    "        option.click()\n",
    "        break"
   ]
  },
  {
   "cell_type": "code",
   "execution_count": null,
   "metadata": {
    "collapsed": true
   },
   "outputs": [],
   "source": [
    "dee = dr.find_element_by_id('deposit_e')\n",
    "for option in dee.find_elements_by_tag_name('option'):\n",
    "    if option.text == '500만':\n",
    "        option.click()\n",
    "        break\n",
    "# 방 보증금의 범위를 설정하는 드롭다운 메뉴에서 우리가 원하는 메뉴를 클릭한 후 결과를 살펴봅니다."
   ]
  }
 ],
 "metadata": {
  "kernelspec": {
   "display_name": "Python 3",
   "language": "python",
   "name": "python3"
  },
  "language_info": {
   "codemirror_mode": {
    "name": "ipython",
    "version": 3
   },
   "file_extension": ".py",
   "mimetype": "text/x-python",
   "name": "python",
   "nbconvert_exporter": "python",
   "pygments_lexer": "ipython3",
   "version": "3.6.0"
  }
 },
 "nbformat": 4,
 "nbformat_minor": 2
}
