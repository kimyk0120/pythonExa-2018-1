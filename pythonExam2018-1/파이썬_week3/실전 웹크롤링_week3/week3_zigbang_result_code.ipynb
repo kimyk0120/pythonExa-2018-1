{
 "cells": [
  {
   "cell_type": "code",
   "execution_count": 12,
   "metadata": {},
   "outputs": [],
   "source": [
    "import time\n",
    "from selenium import webdriver\n",
    "#from selenium.common.exceptions import NoSuchElementException \n",
    "# selenium 불러오기\n",
    "keyword = '혜화역'\n",
    "webdriver_path = '/Users/ahn/chromedriver'\n",
    "# 사용될 검색어와 크롬 드라이버의 위치를 지정."
   ]
  },
  {
   "cell_type": "code",
   "execution_count": 16,
   "metadata": {},
   "outputs": [],
   "source": [
    "dr = webdriver.Chrome(webdriver_path)\n",
    "dr.get(\"https://www.zigbang.com/\")\n",
    "\n",
    "# 크롬드라이버의 위치를 사용하여 GET방식으로 직방 페이지에 접근합니다."
   ]
  },
  {
   "cell_type": "code",
   "execution_count": 17,
   "metadata": {},
   "outputs": [],
   "source": [
    "#dr.find_element_by_id('room-textfield').send_keys(keyword)\n",
    "dr.find_element_by_css_selector('#room-textfield').send_keys(keyword)\n",
    "time.sleep(5)\n",
    "#id 속성을 사용하여 검색창의 input 속성값을 찾아 keyword 입력"
   ]
  },
  {
   "cell_type": "code",
   "execution_count": 18,
   "metadata": {},
   "outputs": [],
   "source": [
    "dr.find_element_by_css_selector('*[id=\"search_btn\"]').click()\n",
    "time.sleep(10)\n",
    "#검색어를 넣는 엘리먼트에 키워드를 넣고, 검색 버튼을 클릭합니다."
   ]
  },
  {
   "cell_type": "code",
   "execution_count": 22,
   "metadata": {},
   "outputs": [],
   "source": [
    "buttons = dr.find_elements_by_css_selector('input[name = \"room\"]')"
   ]
  },
  {
   "cell_type": "code",
   "execution_count": 23,
   "metadata": {},
   "outputs": [],
   "source": [
    "for button in buttons[1:]:\n",
    "    button.click()\n",
    "    time.sleep(1)\n",
    "# 2~3개 버튼 클릭 코드 작성하기"
   ]
  },
  {
   "cell_type": "code",
   "execution_count": 24,
   "metadata": {},
   "outputs": [],
   "source": [
    "des = dr.find_element_by_id('deposit_s')\n",
    "for option in des.find_elements_by_tag_name('option'):\n",
    "    if option.text == '100만':\n",
    "        option.click()\n",
    "        break"
   ]
  },
  {
   "cell_type": "code",
   "execution_count": 25,
   "metadata": {},
   "outputs": [],
   "source": [
    "dee = dr.find_element_by_id('deposit_e')\n",
    "for option in dee.find_elements_by_tag_name('option'):\n",
    "    if option.text == '500만':\n",
    "        option.click()\n",
    "        break\n",
    "# 방 보증금의 범위를 설정하는 드롭다운 메뉴에서 우리가 원하는 메뉴를 클릭한 후 결과를 살펴봅니다."
   ]
  },
  {
   "cell_type": "code",
   "execution_count": 26,
   "metadata": {},
   "outputs": [],
   "source": [
    "itits = dr.find_elements_by_css_selector('div[class = \"i-tit\"]')\n",
    "# 방의 정보가 나와있는 칸들을 찾습니다."
   ]
  },
  {
   "cell_type": "code",
   "execution_count": 27,
   "metadata": {},
   "outputs": [
    {
     "data": {
      "text/plain": [
       "[<selenium.webdriver.remote.webelement.WebElement (session=\"1f2b2eaaad3d02a50d4588b8979c96fe\", element=\"0.44421752003495474-46\")>,\n",
       " <selenium.webdriver.remote.webelement.WebElement (session=\"1f2b2eaaad3d02a50d4588b8979c96fe\", element=\"0.44421752003495474-47\")>,\n",
       " <selenium.webdriver.remote.webelement.WebElement (session=\"1f2b2eaaad3d02a50d4588b8979c96fe\", element=\"0.44421752003495474-48\")>,\n",
       " <selenium.webdriver.remote.webelement.WebElement (session=\"1f2b2eaaad3d02a50d4588b8979c96fe\", element=\"0.44421752003495474-49\")>,\n",
       " <selenium.webdriver.remote.webelement.WebElement (session=\"1f2b2eaaad3d02a50d4588b8979c96fe\", element=\"0.44421752003495474-50\")>,\n",
       " <selenium.webdriver.remote.webelement.WebElement (session=\"1f2b2eaaad3d02a50d4588b8979c96fe\", element=\"0.44421752003495474-51\")>,\n",
       " <selenium.webdriver.remote.webelement.WebElement (session=\"1f2b2eaaad3d02a50d4588b8979c96fe\", element=\"0.44421752003495474-52\")>,\n",
       " <selenium.webdriver.remote.webelement.WebElement (session=\"1f2b2eaaad3d02a50d4588b8979c96fe\", element=\"0.44421752003495474-53\")>,\n",
       " <selenium.webdriver.remote.webelement.WebElement (session=\"1f2b2eaaad3d02a50d4588b8979c96fe\", element=\"0.44421752003495474-54\")>,\n",
       " <selenium.webdriver.remote.webelement.WebElement (session=\"1f2b2eaaad3d02a50d4588b8979c96fe\", element=\"0.44421752003495474-55\")>,\n",
       " <selenium.webdriver.remote.webelement.WebElement (session=\"1f2b2eaaad3d02a50d4588b8979c96fe\", element=\"0.44421752003495474-56\")>,\n",
       " <selenium.webdriver.remote.webelement.WebElement (session=\"1f2b2eaaad3d02a50d4588b8979c96fe\", element=\"0.44421752003495474-57\")>,\n",
       " <selenium.webdriver.remote.webelement.WebElement (session=\"1f2b2eaaad3d02a50d4588b8979c96fe\", element=\"0.44421752003495474-58\")>,\n",
       " <selenium.webdriver.remote.webelement.WebElement (session=\"1f2b2eaaad3d02a50d4588b8979c96fe\", element=\"0.44421752003495474-59\")>,\n",
       " <selenium.webdriver.remote.webelement.WebElement (session=\"1f2b2eaaad3d02a50d4588b8979c96fe\", element=\"0.44421752003495474-60\")>,\n",
       " <selenium.webdriver.remote.webelement.WebElement (session=\"1f2b2eaaad3d02a50d4588b8979c96fe\", element=\"0.44421752003495474-61\")>,\n",
       " <selenium.webdriver.remote.webelement.WebElement (session=\"1f2b2eaaad3d02a50d4588b8979c96fe\", element=\"0.44421752003495474-62\")>,\n",
       " <selenium.webdriver.remote.webelement.WebElement (session=\"1f2b2eaaad3d02a50d4588b8979c96fe\", element=\"0.44421752003495474-63\")>,\n",
       " <selenium.webdriver.remote.webelement.WebElement (session=\"1f2b2eaaad3d02a50d4588b8979c96fe\", element=\"0.44421752003495474-64\")>,\n",
       " <selenium.webdriver.remote.webelement.WebElement (session=\"1f2b2eaaad3d02a50d4588b8979c96fe\", element=\"0.44421752003495474-65\")>,\n",
       " <selenium.webdriver.remote.webelement.WebElement (session=\"1f2b2eaaad3d02a50d4588b8979c96fe\", element=\"0.44421752003495474-66\")>,\n",
       " <selenium.webdriver.remote.webelement.WebElement (session=\"1f2b2eaaad3d02a50d4588b8979c96fe\", element=\"0.44421752003495474-67\")>,\n",
       " <selenium.webdriver.remote.webelement.WebElement (session=\"1f2b2eaaad3d02a50d4588b8979c96fe\", element=\"0.44421752003495474-68\")>,\n",
       " <selenium.webdriver.remote.webelement.WebElement (session=\"1f2b2eaaad3d02a50d4588b8979c96fe\", element=\"0.44421752003495474-69\")>,\n",
       " <selenium.webdriver.remote.webelement.WebElement (session=\"1f2b2eaaad3d02a50d4588b8979c96fe\", element=\"0.44421752003495474-70\")>,\n",
       " <selenium.webdriver.remote.webelement.WebElement (session=\"1f2b2eaaad3d02a50d4588b8979c96fe\", element=\"0.44421752003495474-71\")>,\n",
       " <selenium.webdriver.remote.webelement.WebElement (session=\"1f2b2eaaad3d02a50d4588b8979c96fe\", element=\"0.44421752003495474-72\")>,\n",
       " <selenium.webdriver.remote.webelement.WebElement (session=\"1f2b2eaaad3d02a50d4588b8979c96fe\", element=\"0.44421752003495474-73\")>,\n",
       " <selenium.webdriver.remote.webelement.WebElement (session=\"1f2b2eaaad3d02a50d4588b8979c96fe\", element=\"0.44421752003495474-74\")>,\n",
       " <selenium.webdriver.remote.webelement.WebElement (session=\"1f2b2eaaad3d02a50d4588b8979c96fe\", element=\"0.44421752003495474-75\")>,\n",
       " <selenium.webdriver.remote.webelement.WebElement (session=\"1f2b2eaaad3d02a50d4588b8979c96fe\", element=\"0.44421752003495474-76\")>,\n",
       " <selenium.webdriver.remote.webelement.WebElement (session=\"1f2b2eaaad3d02a50d4588b8979c96fe\", element=\"0.44421752003495474-77\")>,\n",
       " <selenium.webdriver.remote.webelement.WebElement (session=\"1f2b2eaaad3d02a50d4588b8979c96fe\", element=\"0.44421752003495474-78\")>,\n",
       " <selenium.webdriver.remote.webelement.WebElement (session=\"1f2b2eaaad3d02a50d4588b8979c96fe\", element=\"0.44421752003495474-79\")>,\n",
       " <selenium.webdriver.remote.webelement.WebElement (session=\"1f2b2eaaad3d02a50d4588b8979c96fe\", element=\"0.44421752003495474-80\")>,\n",
       " <selenium.webdriver.remote.webelement.WebElement (session=\"1f2b2eaaad3d02a50d4588b8979c96fe\", element=\"0.44421752003495474-81\")>,\n",
       " <selenium.webdriver.remote.webelement.WebElement (session=\"1f2b2eaaad3d02a50d4588b8979c96fe\", element=\"0.44421752003495474-82\")>,\n",
       " <selenium.webdriver.remote.webelement.WebElement (session=\"1f2b2eaaad3d02a50d4588b8979c96fe\", element=\"0.44421752003495474-83\")>,\n",
       " <selenium.webdriver.remote.webelement.WebElement (session=\"1f2b2eaaad3d02a50d4588b8979c96fe\", element=\"0.44421752003495474-84\")>,\n",
       " <selenium.webdriver.remote.webelement.WebElement (session=\"1f2b2eaaad3d02a50d4588b8979c96fe\", element=\"0.44421752003495474-85\")>,\n",
       " <selenium.webdriver.remote.webelement.WebElement (session=\"1f2b2eaaad3d02a50d4588b8979c96fe\", element=\"0.44421752003495474-86\")>,\n",
       " <selenium.webdriver.remote.webelement.WebElement (session=\"1f2b2eaaad3d02a50d4588b8979c96fe\", element=\"0.44421752003495474-87\")>,\n",
       " <selenium.webdriver.remote.webelement.WebElement (session=\"1f2b2eaaad3d02a50d4588b8979c96fe\", element=\"0.44421752003495474-88\")>,\n",
       " <selenium.webdriver.remote.webelement.WebElement (session=\"1f2b2eaaad3d02a50d4588b8979c96fe\", element=\"0.44421752003495474-89\")>,\n",
       " <selenium.webdriver.remote.webelement.WebElement (session=\"1f2b2eaaad3d02a50d4588b8979c96fe\", element=\"0.44421752003495474-90\")>,\n",
       " <selenium.webdriver.remote.webelement.WebElement (session=\"1f2b2eaaad3d02a50d4588b8979c96fe\", element=\"0.44421752003495474-91\")>,\n",
       " <selenium.webdriver.remote.webelement.WebElement (session=\"1f2b2eaaad3d02a50d4588b8979c96fe\", element=\"0.44421752003495474-92\")>,\n",
       " <selenium.webdriver.remote.webelement.WebElement (session=\"1f2b2eaaad3d02a50d4588b8979c96fe\", element=\"0.44421752003495474-93\")>,\n",
       " <selenium.webdriver.remote.webelement.WebElement (session=\"1f2b2eaaad3d02a50d4588b8979c96fe\", element=\"0.44421752003495474-94\")>,\n",
       " <selenium.webdriver.remote.webelement.WebElement (session=\"1f2b2eaaad3d02a50d4588b8979c96fe\", element=\"0.44421752003495474-95\")>,\n",
       " <selenium.webdriver.remote.webelement.WebElement (session=\"1f2b2eaaad3d02a50d4588b8979c96fe\", element=\"0.44421752003495474-96\")>,\n",
       " <selenium.webdriver.remote.webelement.WebElement (session=\"1f2b2eaaad3d02a50d4588b8979c96fe\", element=\"0.44421752003495474-97\")>,\n",
       " <selenium.webdriver.remote.webelement.WebElement (session=\"1f2b2eaaad3d02a50d4588b8979c96fe\", element=\"0.44421752003495474-98\")>,\n",
       " <selenium.webdriver.remote.webelement.WebElement (session=\"1f2b2eaaad3d02a50d4588b8979c96fe\", element=\"0.44421752003495474-99\")>,\n",
       " <selenium.webdriver.remote.webelement.WebElement (session=\"1f2b2eaaad3d02a50d4588b8979c96fe\", element=\"0.44421752003495474-100\")>,\n",
       " <selenium.webdriver.remote.webelement.WebElement (session=\"1f2b2eaaad3d02a50d4588b8979c96fe\", element=\"0.44421752003495474-101\")>,\n",
       " <selenium.webdriver.remote.webelement.WebElement (session=\"1f2b2eaaad3d02a50d4588b8979c96fe\", element=\"0.44421752003495474-102\")>,\n",
       " <selenium.webdriver.remote.webelement.WebElement (session=\"1f2b2eaaad3d02a50d4588b8979c96fe\", element=\"0.44421752003495474-103\")>,\n",
       " <selenium.webdriver.remote.webelement.WebElement (session=\"1f2b2eaaad3d02a50d4588b8979c96fe\", element=\"0.44421752003495474-104\")>,\n",
       " <selenium.webdriver.remote.webelement.WebElement (session=\"1f2b2eaaad3d02a50d4588b8979c96fe\", element=\"0.44421752003495474-105\")>,\n",
       " <selenium.webdriver.remote.webelement.WebElement (session=\"1f2b2eaaad3d02a50d4588b8979c96fe\", element=\"0.44421752003495474-106\")>,\n",
       " <selenium.webdriver.remote.webelement.WebElement (session=\"1f2b2eaaad3d02a50d4588b8979c96fe\", element=\"0.44421752003495474-107\")>]"
      ]
     },
     "execution_count": 27,
     "metadata": {},
     "output_type": "execute_result"
    }
   ],
   "source": [
    "itits"
   ]
  },
  {
   "cell_type": "code",
   "execution_count": 20,
   "metadata": {},
   "outputs": [
    {
     "data": {
      "text/plain": [
       "['3,000/35',\n",
       " '2억/0',\n",
       " '2억3,000/0',\n",
       " '1억/80',\n",
       " '2억5,000/0',\n",
       " '2억2,000/0',\n",
       " '2억2,000/0',\n",
       " '3,000/30',\n",
       " '2억4,000/0',\n",
       " '3,000/35',\n",
       " '1억5,000/0',\n",
       " '2억3,000/0',\n",
       " '4,000/40',\n",
       " '1억5,000/0',\n",
       " '3,000/40',\n",
       " '3,000/70',\n",
       " '7,000/0',\n",
       " '3,000/45',\n",
       " '6,000/0',\n",
       " '6,000/0',\n",
       " '1억/0',\n",
       " '7,000/0',\n",
       " '7,000/0',\n",
       " '3억/0',\n",
       " '1억7,000/0',\n",
       " '3,000/35',\n",
       " '2억2,000/0',\n",
       " '2억3,000/0',\n",
       " '1억9,000/0',\n",
       " '2억/0',\n",
       " '3,000/50',\n",
       " '1억4,000/0',\n",
       " '2억2,000/0',\n",
       " '2억3,000/0',\n",
       " '3억/20',\n",
       " '1억/80',\n",
       " '1억5,000/0',\n",
       " '3,000/40',\n",
       " '2억1,000/20',\n",
       " '3,000/80',\n",
       " '3,500/40',\n",
       " '5,000/0',\n",
       " '8,500/0',\n",
       " '3,000/70',\n",
       " '3,000/45',\n",
       " '5,000/30',\n",
       " '2억4,000/0',\n",
       " '3억/0',\n",
       " '7,000/0',\n",
       " '3,000/30',\n",
       " '1억5,000/0',\n",
       " '1억5,000/0',\n",
       " '2억2,000/0',\n",
       " '3,000/65',\n",
       " '2억2,000/0',\n",
       " '2억2,000/0',\n",
       " '3,000/70',\n",
       " '8,000/100',\n",
       " '4,000/40',\n",
       " '9,000/0',\n",
       " '1억2,000/30',\n",
       " '6,500/0',\n",
       " '1억/0',\n",
       " '2억6,000/0',\n",
       " '3,000/35',\n",
       " '2억2,000/0',\n",
       " '6,000/0',\n",
       " '6,000/80',\n",
       " '4,000/40',\n",
       " '1억5,000/0',\n",
       " '8,000/50',\n",
       " '5,000/30',\n",
       " '9,000/0',\n",
       " '8,000/50',\n",
       " '4,000/50',\n",
       " '2억2,000/0',\n",
       " '1억/30',\n",
       " '3,000/60',\n",
       " '1억1,000/0',\n",
       " '1억5,000/20',\n",
       " '2억8,000/0',\n",
       " '2억5,000/0',\n",
       " '2억/0',\n",
       " '1억/40',\n",
       " '2억8,000/0',\n",
       " '2억8,000/0',\n",
       " '7,000/0',\n",
       " '6,200/0']"
      ]
     },
     "execution_count": 20,
     "metadata": {},
     "output_type": "execute_result"
    }
   ],
   "source": [
    "prices = []\n",
    "for element in itits:\n",
    "    try:\n",
    "        prices.append(element.find_element_by_tag_name('strong').text)\n",
    "    except NoSuchElementException:\n",
    "        pass\n",
    "prices\n",
    "# [element.find_element_by_tag_name('strong').text for element in itits]\n",
    "# 방이 들어있는 칸에서 중개사 소개로 인해 가격이 없는 칸을 제외한 모든 칸에서 가격정보를 가져옵니다."
   ]
  },
  {
   "cell_type": "code",
   "execution_count": null,
   "metadata": {
    "collapsed": true
   },
   "outputs": [],
   "source": []
  }
 ],
 "metadata": {
  "kernelspec": {
   "display_name": "Python 3",
   "language": "python",
   "name": "python3"
  },
  "language_info": {
   "codemirror_mode": {
    "name": "ipython",
    "version": 3
   },
   "file_extension": ".py",
   "mimetype": "text/x-python",
   "name": "python",
   "nbconvert_exporter": "python",
   "pygments_lexer": "ipython3",
   "version": "3.6.5"
  }
 },
 "nbformat": 4,
 "nbformat_minor": 2
}
