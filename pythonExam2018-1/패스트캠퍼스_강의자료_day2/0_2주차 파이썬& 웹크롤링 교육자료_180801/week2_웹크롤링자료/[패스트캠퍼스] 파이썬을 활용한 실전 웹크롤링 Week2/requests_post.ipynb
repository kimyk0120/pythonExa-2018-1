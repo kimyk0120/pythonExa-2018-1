{
 "cells": [
  {
   "cell_type": "code",
   "execution_count": 1,
   "metadata": {
    "collapsed": true
   },
   "outputs": [],
   "source": [
    "import requests"
   ]
  },
  {
   "cell_type": "code",
   "execution_count": 2,
   "metadata": {},
   "outputs": [],
   "source": [
    "url = \"https://openapi.naver.com/v1/datalab/search\"\n",
    "client_id = \"X9S83UuJsvBu1zKJsdep\"\n",
    "client_secret = \"Vph796WJWB\"\n",
    "# naver api를 사용하기 위해 아이디와 비밀번호를 입력합니다."
   ]
  },
  {
   "cell_type": "code",
   "execution_count": 6,
   "metadata": {},
   "outputs": [],
   "source": [
    "body = \"{\\\"startDate\\\":\\\"2018-01-01\\\",\\\"endDate\\\":\\\"2018-07-30\\\",\\\"timeUnit\\\":\\\"month\\\",\\\"keywordGroups\\\":[{\\\"groupName\\\":\\\"배그\\\",\\\"keywords\\\":[\\\"배틀그라운드\\\",\\\"pubg\\\",\\\"배그\\\",\\\"battleground\\\",\\\"카배\\\"]}],\\\"device\\\":\\\"pc\\\",\\\"ages\\\":[\\\"1\\\",\\\"2\\\",\\\"3\\\",\\\"4\\\"],\\\"gender\\\":\\\"f\\\"}\"\n",
    "header = {\"X-Naver-Client-Id\": client_id,\n",
    "          \"X-Naver-Client-Secret\" : client_secret,\n",
    "          \"Content-Type\" : \"application/json\"}\n",
    "# POST요청을 보내기 위해 택배상자 안에 넣을 정보를 따로 기입해 놓습니다."
   ]
  },
  {
   "cell_type": "code",
   "execution_count": 7,
   "metadata": {},
   "outputs": [],
   "source": [
    "r = requests.post(url, data = body.encode(encoding='utf-8'), headers = header)\n",
    "# post를 사용해 data라는 변수에 우리가 준비한 택배 내용물을 넣고 요청을 보냅니다."
   ]
  },
  {
   "cell_type": "code",
   "execution_count": 8,
   "metadata": {},
   "outputs": [
    {
     "name": "stdout",
     "output_type": "stream",
     "text": [
      "{'startDate': '2018-01-01', 'endDate': '2018-07-27', 'timeUnit': 'month', 'results': [{'title': '배그', 'keywords': ['배틀그라운드', 'pubg', '배그', 'battleground', '카배'], 'data': [{'period': '2018-01-01', 'ratio': 76.87324}, {'period': '2018-02-01', 'ratio': 91.09404}, {'period': '2018-03-01', 'ratio': 79.04109}, {'period': '2018-04-01', 'ratio': 77.02714}, {'period': '2018-05-01', 'ratio': 100}, {'period': '2018-06-01', 'ratio': 83.06167}, {'period': '2018-07-01', 'ratio': 71.5496}]}]}\n2018-01-01  :  76.87324\n2018-02-01  :  91.09404\n2018-03-01  :  79.04109\n2018-04-01  :  77.02714\n2018-05-01  :  100\n2018-06-01  :  83.06167\n2018-07-01  :  71.5496\n"
     ]
    }
   ],
   "source": [
    "rcod = r.status_code\n",
    "if(rcod==200):\n",
    "    dc = r.json()\n",
    "    print(dc)\n",
    "    for i in dc['results'][0]['data']:\n",
    "        print(i['period'], ' : ', i['ratio'])\n",
    "else:\n",
    "    print(\"Error Code:\" + str(rcod))\n",
    "# 위의 네이버 API는 키워드에 대한 검색 비율을 json으로 응답해주는 API입니다. 따라서 응답을 .json()으로 해석하여 뽑아냅니다."
   ]
  }
 ],
 "metadata": {
  "kernelspec": {
   "display_name": "Python 2",
   "language": "python",
   "name": "python2"
  },
  "language_info": {
   "codemirror_mode": {
    "name": "ipython",
    "version": 2
   },
   "file_extension": ".py",
   "mimetype": "text/x-python",
   "name": "python",
   "nbconvert_exporter": "python",
   "pygments_lexer": "ipython2",
   "version": "2.7.6"
  }
 },
 "nbformat": 4,
 "nbformat_minor": 0
}
