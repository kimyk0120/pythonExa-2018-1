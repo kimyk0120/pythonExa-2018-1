{
 "cells": [
  {
   "cell_type": "code",
   "execution_count": 1,
   "metadata": {
    "collapsed": true
   },
   "outputs": [],
   "source": [
    "from selenium import webdriver\n",
    "\n",
    "chromedriver_address = '/Users/ahn'\n",
    "# 컴퓨터에 있는 크롬드라이버 설치 폴더 경로를 입력\n",
    "# 윈도우는 폴더에서 복사해서 가져오는 경우 ₩를 /로 변경\n",
    "\n",
    "driver = webdriver.Chrome(chromedriver_address + '/chromedriver')"
   ]
  },
  {
   "cell_type": "code",
   "execution_count": 2,
   "metadata": {
    "collapsed": true
   },
   "outputs": [],
   "source": [
    "keyword = '패스트캠퍼스'\n",
    "# 이번에는 키워드 검색을 할 수 있는 url이기 때문에 키워드 parameter에 들어갈 키워드를 미리 변수로 지정.\n",
    "web_url = 'https://search.naver.com/search.naver?query='+keyword+'&where=news&ie=utf8&sm=nws_hty'\n",
    "# 네이버 뉴스 검색에 키워드를 넣은 주소를 web_url에 저장.\n",
    "driver.get(web_url)\n",
    "# 키워드를 넣은 주소에 접근."
   ]
  },
  {
   "cell_type": "code",
   "execution_count": 3,
   "metadata": {},
   "outputs": [
    {
     "name": "stdout",
     "output_type": "stream",
     "text": [
      "True\n"
     ]
    }
   ],
   "source": [
    "driver_source = driver.page_source\n",
    "# 검색 결과의 HTML문서 불러오기\n",
    "\n",
    "print('패스트캠퍼스' in driver_source)\n",
    "# HTML 문서를 확인."
   ]
  },
  {
   "cell_type": "code",
   "execution_count": null,
   "metadata": {
    "collapsed": true
   },
   "outputs": [],
   "source": []
  }
 ],
 "metadata": {
  "kernelspec": {
   "display_name": "Python 3",
   "language": "python",
   "name": "python3"
  },
  "language_info": {
   "codemirror_mode": {
    "name": "ipython",
    "version": 3
   },
   "file_extension": ".py",
   "mimetype": "text/x-python",
   "name": "python",
   "nbconvert_exporter": "python",
   "pygments_lexer": "ipython3",
   "version": "3.6.5"
  }
 },
 "nbformat": 4,
 "nbformat_minor": 2
}
