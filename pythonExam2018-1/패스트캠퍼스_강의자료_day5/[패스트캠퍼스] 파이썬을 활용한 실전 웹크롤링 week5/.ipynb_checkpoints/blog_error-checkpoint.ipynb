{
 "cells": [
  {
   "cell_type": "code",
   "execution_count": 1,
   "metadata": {},
   "outputs": [],
   "source": [
    "from selenium import webdriver\n",
    "from selenium.common.exceptions import NoSuchElementException\n",
    "import time"
   ]
  },
  {
   "cell_type": "code",
   "execution_count": 7,
   "metadata": {},
   "outputs": [],
   "source": [
    "dr = webdriver.Chrome('/Users/ahn/chromedriver')\n",
    "url = 'https://search.naver.com/search.naver?where=post&sm=tab_jum&query='\n",
    "keyword = '평택시 미군'\n",
    "#keyword = '어벤져스'"
   ]
  },
  {
   "cell_type": "code",
   "execution_count": 8,
   "metadata": {},
   "outputs": [
    {
     "name": "stdout",
     "output_type": "stream",
     "text": [
      "1인경우\n",
      "<selenium.webdriver.remote.webelement.WebElement (session=\"0234f65e634a54e93525a4430e9c9a21\", element=\"0.36319409084947285-1\")>\n"
     ]
    }
   ],
   "source": [
    "#연관검색어 결과가 나타나는지 여부에 따른 결과\n",
    "\n",
    "dr.get(url+keyword)\n",
    "try:\n",
    "    search_result_count = dr.find_element_by_xpath('//*[@id=\"main_pack\"]/div[1]/div/span')\n",
    "    # main pack tag 내 첫번째 div\n",
    "    print('1인경우')\n",
    "    print(search_result_count)\n",
    "except NoSuchElementException:\n",
    "    search_result_count = dr.find_element_by_xpath('//*[@id=\"main_pack\"]/div[2]/div/span')\n",
    "    # main pack 태그 내 두번째 div\n",
    "    print('2인경우')\n",
    "    print(search_result_count)\n",
    "    "
   ]
  },
  {
   "cell_type": "code",
   "execution_count": null,
   "metadata": {},
   "outputs": [],
   "source": []
  }
 ],
 "metadata": {
  "kernelspec": {
   "display_name": "Python 3",
   "language": "python",
   "name": "python3"
  },
  "language_info": {
   "codemirror_mode": {
    "name": "ipython",
    "version": 3
   },
   "file_extension": ".py",
   "mimetype": "text/x-python",
   "name": "python",
   "nbconvert_exporter": "python",
   "pygments_lexer": "ipython3",
   "version": "3.6.5"
  }
 },
 "nbformat": 4,
 "nbformat_minor": 2
}
