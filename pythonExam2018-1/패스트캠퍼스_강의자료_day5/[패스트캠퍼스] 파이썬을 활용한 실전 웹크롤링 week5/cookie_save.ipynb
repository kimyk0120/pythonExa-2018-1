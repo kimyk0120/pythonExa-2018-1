{
 "cells": [
  {
   "cell_type": "code",
   "execution_count": 1,
   "metadata": {},
   "outputs": [],
   "source": [
    "from selenium import webdriver\n",
    "import time\n",
    "import pickle\n",
    "\n",
    "op = webdriver.ChromeOptions()\n",
    "op.add_argument(\"--disable-notifications\") # page 허용 여부를 묻는 창 뜨지 않도록 옵션 설정\n",
    "dr = webdriver.Chrome('/Users/joono/chromedriver',chrome_options=op)\n",
    "\n",
    "url = 'https://www.facebook.com/'"
   ]
  },
  {
   "cell_type": "code",
   "execution_count": 2,
   "metadata": {},
   "outputs": [],
   "source": [
    "dr.get(url)\n",
    "id_input = dr.find_element_by_id('email') #id입력 엘리먼트 찾기\n",
    "id_input.send_keys('--id--') # id입력\n",
    "pw_input = dr.find_element_by_id('pass') # pw입력 엘리먼트 찾기\n",
    "pw_input.send_keys('--pw--') # pw입력\n",
    "submit_button = dr.find_element_by_id('u_0_2') # id속성값 'u_0_2' element 로그인 버튼 찾는 변수 생성\n",
    "submit_button.submit() # 버튼 누르기\n",
    "time.sleep(2)\n"
   ]
  },
  {
   "cell_type": "code",
   "execution_count": null,
   "metadata": {},
   "outputs": [],
   "source": []
  }
 ],
 "metadata": {
  "kernelspec": {
   "display_name": "Python 3",
   "language": "python",
   "name": "python3"
  },
  "language_info": {
   "codemirror_mode": {
    "name": "ipython",
    "version": 3
   },
   "file_extension": ".py",
   "mimetype": "text/x-python",
   "name": "python",
   "nbconvert_exporter": "python",
   "pygments_lexer": "ipython3",
   "version": "3.6.5"
  }
 },
 "nbformat": 4,
 "nbformat_minor": 2
}
