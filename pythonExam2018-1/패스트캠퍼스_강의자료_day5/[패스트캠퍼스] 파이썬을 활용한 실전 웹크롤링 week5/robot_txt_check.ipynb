{
 "cells": [
  {
   "cell_type": "code",
   "execution_count": null,
   "metadata": {
    "collapsed": true
   },
   "outputs": [],
   "source": [
    "from selenium import webdriver\n",
    "\n",
    "dr = webdriver.Chrome('/Users/joono/chromedriver')\n",
    "\n",
    "url = 'http://www.saramin.co.kr/robots.txt'"
   ]
  },
  {
   "cell_type": "code",
   "execution_count": null,
   "metadata": {
    "collapsed": true
   },
   "outputs": [],
   "source": [
    "dr.get(url)\n",
    "robotstxt = dr.find_element_by_tag_name('pre').text"
   ]
  },
  {
   "cell_type": "code",
   "execution_count": null,
   "metadata": {
    "collapsed": true
   },
   "outputs": [],
   "source": [
    "want_part = robotstxt.split('User-agent: *')[1]\n",
    "want_url = 'http://www.saramin.co.kr/zf_user/jobs/list/domestic?loc_mcd=101000'\n",
    "if want_url.split('co.kr/')[1].split('/')[0] in want_part:\n",
    "    print('크롤링 하지 마세요')\n",
    "else:\n",
    "    print('괜찮습니다')"
   ]
  }
 ],
 "metadata": {
  "kernelspec": {
   "display_name": "Python 3",
   "language": "python",
   "name": "python3"
  },
  "language_info": {
   "codemirror_mode": {
    "name": "ipython",
    "version": 3
   },
   "file_extension": ".py",
   "mimetype": "text/x-python",
   "name": "python",
   "nbconvert_exporter": "python",
   "pygments_lexer": "ipython3",
   "version": "3.6.5"
  }
 },
 "nbformat": 4,
 "nbformat_minor": 2
}
