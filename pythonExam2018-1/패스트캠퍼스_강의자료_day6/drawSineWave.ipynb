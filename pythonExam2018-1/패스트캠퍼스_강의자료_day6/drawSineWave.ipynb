{
 "cells": [
  {
   "cell_type": "code",
   "execution_count": null,
   "metadata": {},
   "outputs": [],
   "source": [
    "import matplotlib.pyplot as plt\n",
    "import numpy as np\n",
    "\n",
    "def plotSinWave(**kwargs):\n",
    "    \"\"\" \n",
    "    plot sine wave\n",
    "    y = a sin(2 pi f t) + b\n",
    "    \"\"\"\n",
    "    endTime, sampleTime = kwargs.get('endTime', 1), kwargs.get('sampleTime', 0.01)\n",
    "    amp, freq, bias = kwargs.get('amp', 1), kwargs.get('freq', 1), kwargs.get('bias', 0)\n",
    "    figsize = kwargs.get('figsize', (12,6))\n",
    "    \n",
    "    time = np.arange(0, endTime, sampleTime)\n",
    "    result = amp * np.sin(2*np.pi*freq*time) + bias\n",
    "    \n",
    "    plt.figure(figsize=(12,6))\n",
    "    plt.plot(time, result); plt.grid(True)\n",
    "    plt.xlabel('time'); plt.ylabel('sin')\n",
    "    plt.title(str(amp)+'*sin(2*pi*'+str(freq)+'*t )+'+str(bias))\n",
    "    plt.show()\n",
    "\n",
    "if __name__ == \"__main__\":\n",
    "    print(\"Hello ~ World !!\")\n",
    "    plotSinWave(freq=0.5)"
   ]
  }
 ],
 "metadata": {
  "kernelspec": {
   "display_name": "Python 3",
   "language": "python",
   "name": "python3"
  },
  "language_info": {
   "codemirror_mode": {
    "name": "ipython",
    "version": 3
   },
   "file_extension": ".py",
   "mimetype": "text/x-python",
   "name": "python",
   "nbconvert_exporter": "python",
   "pygments_lexer": "ipython3",
   "version": "3.5.5"
  },
  "widgets": {
   "state": {},
   "version": "1.1.2"
  }
 },
 "nbformat": 4,
 "nbformat_minor": 2
}
